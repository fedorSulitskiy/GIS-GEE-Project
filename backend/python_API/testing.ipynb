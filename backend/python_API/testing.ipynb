{
 "cells": [
  {
   "cell_type": "code",
   "execution_count": 1,
   "id": "2a0704ba",
   "metadata": {},
   "outputs": [],
   "source": [
    "import ee\n",
    "import geemap"
   ]
  },
  {
   "cell_type": "code",
   "execution_count": 2,
   "id": "62fe3a83",
   "metadata": {},
   "outputs": [],
   "source": [
    "geemap.ee_initialize()"
   ]
  },
  {
   "cell_type": "code",
   "execution_count": 11,
   "id": "bc7fc214",
   "metadata": {},
   "outputs": [],
   "source": [
    "Map = geemap.Map()"
   ]
  },
  {
   "cell_type": "code",
   "execution_count": 15,
   "id": "6e2c268b",
   "metadata": {
    "scrolled": true
   },
   "outputs": [
    {
     "data": {
      "application/vnd.jupyter.widget-view+json": {
       "model_id": "27de4dd362504fbcb12ff884dfff94f2",
       "version_major": 2,
       "version_minor": 0
      },
      "text/plain": [
       "Map(center=[40, -100], controls=(WidgetControl(options=['position', 'transparent_bg'], widget=HBox(children=(T…"
      ]
     },
     "metadata": {},
     "output_type": "display_data"
    }
   ],
   "source": [
    "Map = geemap.Map(center=[40, -100], zoom=4, height=600)\n",
    "Map"
   ]
  },
  {
   "cell_type": "code",
   "execution_count": 3,
   "id": "65253e98",
   "metadata": {
    "scrolled": false
   },
   "outputs": [
    {
     "data": {
      "application/vnd.jupyter.widget-view+json": {
       "model_id": "ac368481d78b4eb38435884c9937c860",
       "version_major": 2,
       "version_minor": 0
      },
      "text/plain": [
       "Map(center=[21.79, 70.87], controls=(WidgetControl(options=['position', 'transparent_bg'], widget=HBox(childre…"
      ]
     },
     "metadata": {},
     "output_type": "display_data"
    }
   ],
   "source": [
    "Map = geemap.Map(center=[21.79, 70.87], zoom=3)\n",
    "image = ee.Image('USGS/SRTMGL1_003')\n",
    "vis_params = {\n",
    "    'min': 0,\n",
    "    'max': 6000,\n",
    "    'palette': ['006633', 'E5FFCC', '662A00', 'D8D8D8', 'F5F5F5'],\n",
    "}\n",
    "Map.addLayer(image, vis_params, 'SRTM')\n",
    "Map"
   ]
  },
  {
   "cell_type": "code",
   "execution_count": 4,
   "id": "20df6d4e",
   "metadata": {},
   "outputs": [
    {
     "name": "stdout",
     "output_type": "stream",
     "text": [
      "C:\\Users\\fsuli\\Programming\\100PROJECTS\\GIS-GEE-Project\\golden_eye_draft\\assets\n"
     ]
    }
   ],
   "source": [
    "import os\n",
    "\n",
    "current_directory = os.getcwd()\n",
    "\n",
    "download_dir = os.path.abspath(os.path.join(current_directory, '../golden_eye_draft/assets'))\n",
    "print(download_dir)\n"
   ]
  },
  {
   "cell_type": "code",
   "execution_count": 5,
   "id": "a5816ea6",
   "metadata": {},
   "outputs": [],
   "source": [
    "html_file = os.path.join(download_dir, 'my_map_one.html')\n",
    "Map.to_html(filename=html_file, title='My Map', width='100%', height='300px')"
   ]
  },
  {
   "cell_type": "code",
   "execution_count": 7,
   "id": "ac712bb6",
   "metadata": {},
   "outputs": [
    {
     "name": "stdout",
     "output_type": "stream",
     "text": [
      "3.9.12 | packaged by conda-forge | (main, Mar 24 2022, 23:18:12) [MSC v.1929 64 bit (AMD64)]\n"
     ]
    }
   ],
   "source": [
    "import sys\n",
    "print(sys.version)"
   ]
  },
  {
   "cell_type": "markdown",
   "id": "9ed82d03",
   "metadata": {},
   "source": [
    "## Keep this for reference\n",
    "### Good html-manager vs bad"
   ]
  },
  {
   "cell_type": "code",
   "execution_count": 8,
   "id": "146c0437",
   "metadata": {},
   "outputs": [
    {
     "name": "stdout",
     "output_type": "stream",
     "text": [
      "<!DOCTYPE html>\n",
      "<html lang=\"en\">\n",
      "<head>\n",
      "    <meta charset=\"UTF-8\">\n",
      "    <title>My Map</title>\n",
      "</head>\n",
      "<body>\n",
      "\n",
      "\n",
      "<!-- Load require.js. Delete this if your page already loads require.js -->\n",
      "<script src=\"https://cdnjs.cloudflare.com/ajax/libs/require.js/2.3.4/require.min.js\" integrity=\"sha256-Ae2Vz/4ePdIu6ZyI/5ZGsYnb+m0JlOmKPjt6XZ9JJkA=\" crossorigin=\"anonymous\"></script>\n",
      "<script src=\"https://unpkg.com/@jupyter-widgets/html-manager@^0.20.0/dist/embed-amd.js\" crossorigin=\"anonymous\"></script>\n",
      "\n",
      "<script type=\"application/vnd.jupyter.widget-state+json\">\n",
      "{\n",
      "  \"version_major\": 2,\n",
      "  \"version_minor\": 0,\n",
      "  \"state\": {\n",
      "    \"d996d4c36be742f8b6d19fcad1acf734\": {\n",
      "      \"model_name\": \"LeafletMapStyleModel\",\n",
      "     \n"
     ]
    }
   ],
   "source": [
    "# Good stuff\n",
    "\n",
    "from ipywidgets import HTML\n",
    "\n",
    "print(HTML(value = Map.to_html()).value[:700])\n"
   ]
  },
  {
   "cell_type": "code",
   "execution_count": 6,
   "id": "c2f8f056",
   "metadata": {},
   "outputs": [
    {
     "name": "stdout",
     "output_type": "stream",
     "text": [
      "<!DOCTYPE html>\n",
      "<html lang=\"en\">\n",
      "<head>\n",
      "    <meta charset=\"UTF-8\">\n",
      "    <title>My Map</title>\n",
      "</head>\n",
      "<body>\n",
      "\n",
      "\n",
      "<!-- Load require.js. Delete this if your page already loads require.js -->\n",
      "<script src=\"https://cdnjs.cloudflare.com/ajax/libs/require.js/2.3.4/require.min.js\" integrity=\"sha256-Ae2Vz/4ePdIu6ZyI/5ZGsYnb+m0JlOmKPjt6XZ9JJkA=\" crossorigin=\"anonymous\"></script>\n",
      "<script src=\"https://cdn.jsdelivr.net/npm/@jupyter-widgets/html-manager@^1.0.1/dist/embed-amd.js\" crossorigin=\"anonymous\"></script>\n",
      "\n",
      "<script type=\"application/vnd.jupyter.widget-state+json\">\n",
      "{\n",
      "  \"version_major\": 2,\n",
      "  \"version_minor\": 0,\n",
      "  \"state\": {\n",
      "    \"dab4fb15c18a4d60866259268b27cae3\": {\n",
      "      \"model_name\": \"LeafletMapStyleMod\n"
     ]
    }
   ],
   "source": [
    "# Bad stuff\n",
    "\n",
    "from ipywidgets import HTML\n",
    "\n",
    "print(HTML(value = Map.to_html()).value[:700])"
   ]
  }
 ],
 "metadata": {
  "kernelspec": {
   "display_name": "Python 3 (ipykernel)",
   "language": "python",
   "name": "python3"
  },
  "language_info": {
   "codemirror_mode": {
    "name": "ipython",
    "version": 3
   },
   "file_extension": ".py",
   "mimetype": "text/x-python",
   "name": "python",
   "nbconvert_exporter": "python",
   "pygments_lexer": "ipython3",
   "version": "3.9.12"
  }
 },
 "nbformat": 4,
 "nbformat_minor": 5
}
